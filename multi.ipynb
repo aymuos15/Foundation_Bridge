{
 "cells": [
  {
   "cell_type": "code",
   "execution_count": 1,
   "metadata": {},
   "outputs": [],
   "source": [
    "import numpy as np\n",
    "\n",
    "def combine_datasets(data_paths):\n",
    "    \"\"\"\n",
    "    Combine multiple datasets from a list of file paths, adjusting labels to ensure uniqueness across all datasets.\n",
    "    Handles both training and test data.\n",
    "    \n",
    "    Args:\n",
    "    data_paths: List of strings, each containing the file path to a .npz dataset.\n",
    "    \n",
    "    Returns:\n",
    "    combined_train_images: Numpy array of combined training images from all datasets.\n",
    "    combined_train_labels: Numpy array of combined and adjusted training labels from all datasets.\n",
    "    combined_test_images: Numpy array of combined test images from all datasets.\n",
    "    combined_test_labels: Numpy array of combined and adjusted test labels from all datasets.\n",
    "    \"\"\"\n",
    "\n",
    "    #! Do not mix one channel and multi channel datasets. Example breastmnist and retinamnist\n",
    "\n",
    "    combined_train_images = []\n",
    "    combined_train_labels = []\n",
    "    combined_test_images = []\n",
    "    combined_test_labels = []\n",
    "    label_offset = 0\n",
    "\n",
    "    for path in data_paths:\n",
    "        # Load the dataset\n",
    "        data = np.load(path)\n",
    "        \n",
    "        # Extract train images and labels\n",
    "        train_images = data['train_images']\n",
    "        train_labels = data['train_labels']\n",
    "        \n",
    "        # Extract test images and labels\n",
    "        test_images = data['test_images']\n",
    "        test_labels = data['test_labels']\n",
    "\n",
    "        combined_train_images.append(train_images)\n",
    "        combined_test_images.append(test_images)\n",
    "\n",
    "        # Adjust labels for uniqueness\n",
    "        adjusted_train_labels = train_labels + label_offset\n",
    "        adjusted_test_labels = test_labels + label_offset\n",
    "        \n",
    "        combined_train_labels.append(adjusted_train_labels)\n",
    "        combined_test_labels.append(adjusted_test_labels)\n",
    "\n",
    "        # Update label offset for the next dataset\n",
    "        label_offset += len(np.unique(train_labels))\n",
    "\n",
    "    # Combine all images and labels\n",
    "    combined_train_images = np.concatenate(combined_train_images, axis=0)\n",
    "    combined_train_labels = np.concatenate(combined_train_labels, axis=0)\n",
    "    combined_test_images = np.concatenate(combined_test_images, axis=0)\n",
    "    combined_test_labels = np.concatenate(combined_test_labels, axis=0)\n",
    "\n",
    "    return combined_train_images, combined_train_labels, combined_test_images, combined_test_labels"
   ]
  },
  {
   "cell_type": "code",
   "execution_count": 2,
   "metadata": {},
   "outputs": [],
   "source": [
    "\n",
    "# Example usage:\n",
    "dataset_paths = [\n",
    "    '/home/localssk23/.medmnist/pneumoniamnist.npz',\n",
    "    '/home/localssk23/.medmnist/breastmnist.npz'\n",
    "]\n",
    "\n",
    "train_images, train_labels, test_images, test_labels = combine_datasets(dataset_paths)"
   ]
  },
  {
   "cell_type": "code",
   "execution_count": 3,
   "metadata": {},
   "outputs": [
    {
     "name": "stdout",
     "output_type": "stream",
     "text": [
      "['/home/localssk23/.medmnist/pneumoniamnist.npz', '/home/localssk23/.medmnist/breastmnist.npz']\n"
     ]
    }
   ],
   "source": [
    "dataset_paths = [\n",
    "    '/home/localssk23/.medmnist/pneumoniamnist.npz',\n",
    "    '/home/localssk23/.medmnist/breastmnist.npz',\n",
    "    # Add more paths as needed\n",
    "]\n",
    "\n",
    "print(dataset_paths)\n",
    "\n",
    "train_images, train_labels, test_images, test_labels = combine_datasets(dataset_paths)"
   ]
  },
  {
   "cell_type": "code",
   "execution_count": 4,
   "metadata": {},
   "outputs": [
    {
     "name": "stdout",
     "output_type": "stream",
     "text": [
      "Combined training images shape: (5254, 28, 28)\n",
      "Combined training labels shape: (5254, 1)\n",
      "Combined test images shape: (780, 28, 28)\n",
      "Combined test labels shape: (780, 1)\n"
     ]
    }
   ],
   "source": [
    "print(f\"Combined training images shape: {train_images.shape}\")\n",
    "print(f\"Combined training labels shape: {train_labels.shape}\")\n",
    "print(f\"Combined test images shape: {test_images.shape}\")\n",
    "print(f\"Combined test labels shape: {test_labels.shape}\")"
   ]
  },
  {
   "cell_type": "code",
   "execution_count": 5,
   "metadata": {},
   "outputs": [
    {
     "name": "stdout",
     "output_type": "stream",
     "text": [
      "Unique training labels: [0 1 2 3]\n"
     ]
    }
   ],
   "source": [
    "print(f\"Unique training labels: {np.unique(train_labels)}\")"
   ]
  },
  {
   "cell_type": "code",
   "execution_count": null,
   "metadata": {},
   "outputs": [],
   "source": []
  }
 ],
 "metadata": {
  "kernelspec": {
   "display_name": "cucim",
   "language": "python",
   "name": "python3"
  },
  "language_info": {
   "codemirror_mode": {
    "name": "ipython",
    "version": 3
   },
   "file_extension": ".py",
   "mimetype": "text/x-python",
   "name": "python",
   "nbconvert_exporter": "python",
   "pygments_lexer": "ipython3",
   "version": "3.8.19"
  }
 },
 "nbformat": 4,
 "nbformat_minor": 2
}
