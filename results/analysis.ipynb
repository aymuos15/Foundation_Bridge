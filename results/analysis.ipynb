{
 "cells": [
  {
   "cell_type": "code",
   "execution_count": 1,
   "metadata": {},
   "outputs": [
    {
     "name": "stdout",
     "output_type": "stream",
     "text": [
      "                 Experiment  Accuracy (Mean)  Accuracy (Std)\n",
      "0                     total          53.9062          0.7812\n",
      "1                  pretrain          52.3438          2.3438\n",
      "2                  finetune          53.5156          4.2969\n",
      "3          pretrain_rotated          37.1094         13.6719\n",
      "4             private_total          52.7344          1.1719\n",
      "5          private_pretrain          49.2188          2.3438\n",
      "6          private_finetune          52.7344          1.1719\n",
      "7  private_pretrain_rotated          28.1250         12.5000\n"
     ]
    }
   ],
   "source": [
    "# Load the base results file\n",
    "import pandas as pd\n",
    "df = pd.read_csv('Base_retinamnist.csv')\n",
    "print(df)"
   ]
  },
  {
   "cell_type": "code",
   "execution_count": 2,
   "metadata": {},
   "outputs": [
    {
     "name": "stdout",
     "output_type": "stream",
     "text": [
      "Question 1 -- Is the pretraining being done properly for rotation?\n",
      "\n",
      "pretrain_rotated : 37.1094\n",
      "private_pretrain_rotated : 28.125\n"
     ]
    }
   ],
   "source": [
    "print(\"Question 1 -- Is the pretraining being done properly for rotation?\")\n",
    "print()\n",
    "print(f\"{df['Experiment'][3]} : {df['Accuracy (Mean)'][3]}\")\n",
    "print(f\"{df['Experiment'][7]} : {df['Accuracy (Mean)'][7]}\")"
   ]
  },
  {
   "cell_type": "code",
   "execution_count": 3,
   "metadata": {},
   "outputs": [
    {
     "name": "stdout",
     "output_type": "stream",
     "text": [
      "                                  Experiment  Accuracy (Mean)  Accuracy (Std)\n",
      "0           pretrain_normal__finetune_normal          50.0000          2.3438\n",
      "1          pretrain_normal__finetune_private          51.5625          0.7812\n",
      "2          pretrain_private__finetune_normal          51.9531          2.7344\n",
      "3         pretrain_private__finetune_private          49.6094          0.3906\n",
      "4    pretrain_normalrotated__finetune_normal          52.3438          1.5625\n",
      "5   pretrain_normalrotated__finetune_private          52.3438          0.7812\n",
      "6   pretrain_privaterotated__finetune_normal          54.2969          0.3906\n",
      "7  pretrain_privaterotated__finetune_private          51.9531          0.3906\n"
     ]
    }
   ],
   "source": [
    "# Load the compound results file\n",
    "import pandas as pd\n",
    "df = pd.read_csv('Compound_retinamnist.csv')\n",
    "print(df)"
   ]
  },
  {
   "cell_type": "code",
   "execution_count": 4,
   "metadata": {},
   "outputs": [
    {
     "name": "stdout",
     "output_type": "stream",
     "text": [
      "Question 2 -- Does Rotation PreTrain Reduce From Normal PreTrain in Normal?\n",
      "\n",
      "pretrain_normal__finetune_normal : 50.0\n",
      "pretrain_normalrotated__finetune_normal : 52.3438\n"
     ]
    }
   ],
   "source": [
    "print(\"Question 2 -- Does Rotation PreTrain Reduce From Normal PreTrain in Normal?\")\n",
    "print()\n",
    "print(f\"{df['Experiment'][0]} : {df['Accuracy (Mean)'][0]}\")\n",
    "print(f\"{df['Experiment'][4]} : {df['Accuracy (Mean)'][4]}\")"
   ]
  },
  {
   "cell_type": "code",
   "execution_count": 5,
   "metadata": {},
   "outputs": [
    {
     "name": "stdout",
     "output_type": "stream",
     "text": [
      "Question 3 -- Does Rotation PreTrain Reduce From Normal PreTrain in Private?\n",
      "\n",
      "pretrain_private__finetune_private : 49.6094\n",
      "pretrain_privaterotated__finetune_private : 51.9531\n"
     ]
    }
   ],
   "source": [
    "print(\"Question 3 -- Does Rotation PreTrain Reduce From Normal PreTrain in Private?\")\n",
    "print()\n",
    "print(f\"{df['Experiment'][3]} : {df['Accuracy (Mean)'][3]}\")\n",
    "print(f\"{df['Experiment'][7]} : {df['Accuracy (Mean)'][7]}\")"
   ]
  },
  {
   "cell_type": "code",
   "execution_count": 6,
   "metadata": {},
   "outputs": [
    {
     "name": "stdout",
     "output_type": "stream",
     "text": [
      "Question 4 -- In Pretraining, Can we do private?\n",
      "\n",
      "pretrain_normal__finetune_normal : 50.0\n",
      "pretrain_private__finetune_normal : 51.9531\n"
     ]
    }
   ],
   "source": [
    "print(\"Question 4 -- In Pretraining, Can we do private?\")\n",
    "print()\n",
    "print(f\"{df['Experiment'][0]} : {df['Accuracy (Mean)'][0]}\")\n",
    "print(f\"{df['Experiment'][2]} : {df['Accuracy (Mean)'][2]}\")"
   ]
  },
  {
   "cell_type": "code",
   "execution_count": 7,
   "metadata": {},
   "outputs": [
    {
     "name": "stdout",
     "output_type": "stream",
     "text": [
      "Question 5 -- In Rotation Pretraining, Can we do private?\n",
      "\n",
      "pretrain_normalrotated__finetune_normal : 52.3438\n",
      "pretrain_privaterotated__finetune_private : 51.9531\n"
     ]
    }
   ],
   "source": [
    "print(\"Question 5 -- In Rotation Pretraining, Can we do private?\")\n",
    "print()\n",
    "print(f\"{df['Experiment'][4]} : {df['Accuracy (Mean)'][4]}\")\n",
    "print(f\"{df['Experiment'][7]} : {df['Accuracy (Mean)'][7]}\")"
   ]
  }
 ],
 "metadata": {
  "kernelspec": {
   "display_name": "cucim",
   "language": "python",
   "name": "python3"
  },
  "language_info": {
   "codemirror_mode": {
    "name": "ipython",
    "version": 3
   },
   "file_extension": ".py",
   "mimetype": "text/x-python",
   "name": "python",
   "nbconvert_exporter": "python",
   "pygments_lexer": "ipython3",
   "version": "3.8.19"
  }
 },
 "nbformat": 4,
 "nbformat_minor": 2
}
